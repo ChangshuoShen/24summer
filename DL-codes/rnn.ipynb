{
 "cells": [
  {
   "cell_type": "markdown",
   "metadata": {},
   "source": [
    "## 序列模型\n",
    "\n",
    "### 序列数据\n",
    "* 实际中很多数据是有时序结构的\n",
    "* 电影的评价随时间变化而变化\n",
    "    * 拿奖后评分上升，直到奖项被忘记\n",
    "    * 看了很多好电影后，人们的期望变高\n",
    "    * 季节性：贺岁片、暑期档\n",
    "    * 导演、演员的负面报道导致评分变低\n",
    "    * ...\n",
    "\n",
    "\n",
    "### 统计工具\n",
    "* 在时间t观察到$x_t$，那么得到T个不独立的随机变量\n",
    "$$\n",
    "(x_1, ..., x_T) \\sim p(x)\n",
    "$$\n",
    "* 使用条件概率展开\n",
    "$$\n",
    "p(a, b) = p(a)p(b|a) = p(b)p(a|b)\n",
    "$$\n",
    "展开的大一点\n",
    "$$\n",
    "p(x) = p(x_1)p(x_2 | x_1)p(x_3|x_1, x_2)...p(x_T|x_1, ..., x_{T-1})\n",
    "$$\n",
    "反过来也可以展开，但是物理上不一定可行\n",
    "### 序列模型\n",
    "$$\n",
    "p(x) = p(x_1)p(x_2 | x_1)p(x_3|x_1, x_2)...p(x_T|x_1, ..., x_{T-1})\n",
    "$$\n",
    "* 对条件概率建模\n",
    "$$\n",
    "p(x_t| x_1, x_2, ..., x_{t - 1}) = p(x_t | f(x_1, ..., x_{t - 1}))\n",
    "$$\n",
    "对见过的数据建模，也称`自回归模型`\n",
    "\n",
    "#### 方案A——Markov假设\n",
    "* 假设当前数据只跟$\\tau$个过去数据点相关\n",
    "$$\n",
    "p(x_t | x_1, ..., x_{t - 1}) = p(x_t | x_{t - \\tau}, ..., x_{t - 1}) = p(x_t| f(x_{t - \\tau}, ..., x_{t - 1}))\n",
    "$$\n",
    "例如在过去数据上训练一个MLP模型\n",
    "\n",
    "#### 潜变量\n",
    "* 引入浅$h_t$来表示过去信息$h_t = f(x_1, ..., x_{t - 1})$\n",
    "    * 这样$x_t = p(x_t | h_t)$\n",
    "\n",
    "summary\n",
    "* 时序模型中，当前数据跟之前观察到的数据相关\n",
    "* 自回归模型使用自身过去数据来预测未来\n",
    "* Markov模型假设当前值跟最近少数数据相关，从而简化模型\n",
    "* 浅变量模型使用潜变量来概括历史信息\n",
    "\n",
    "\n",
    "### 代码"
   ]
  },
  {
   "cell_type": "code",
   "execution_count": null,
   "metadata": {
    "vscode": {
     "languageId": "plaintext"
    }
   },
   "outputs": [],
   "source": [
    "# 序列模型\n",
    "# 使用正弦函数和一些可加性噪声生成序列数据，时间步为1,2,...，1000\n",
    "import torch\n",
    "from torch import nn\n",
    "from d2l import torch as d2l\n",
    "\n",
    "T = 1000\n",
    "time = torch.arange(1, T + 1, dtype=torch.float32)\n",
    "x = torch.sim(0.01 * time) + torch.normal(0, 0.2, (T,))\n",
    "d2l.plot(time, [x], 'time', 'x', xlim=[1, 1000], figsize=(6, 3))"
   ]
  },
  {
   "cell_type": "code",
   "execution_count": null,
   "metadata": {
    "vscode": {
     "languageId": "plaintext"
    }
   },
   "outputs": [],
   "source": [
    "# 将数据映射为数据对y_t = x_t和x_t = [x_{t - \\tau}, ..., x_{t - 1}]\n",
    "\n",
    "tau = 4 # 我们的模型假设每一个时间步的x只和过去的4个时间步有关\n",
    "features = torch.zeros((T - tau, tau))\n",
    "\n",
    "for i in range(tau):\n",
    "    features[:, i] = x[i: T - tau + i]\n",
    "\n",
    "labels = x[tau: ].reshape((-1, 1))\n",
    "\n",
    "betch_size, n_train = 16, 600\n",
    "\n",
    "train_iter = d2l.load_array(\n",
    "    (features[: n_train], labels[: n_train]),\n",
    "    batch_size, is_train=True\n",
    ")"
   ]
  },
  {
   "cell_type": "code",
   "execution_count": null,
   "metadata": {
    "vscode": {
     "languageId": "plaintext"
    }
   },
   "outputs": [],
   "source": [
    "# 使用一个简单的结构：只是一个拥有两个全连接层的MLP\n",
    "\n",
    "def init_wieghts(m):\n",
    "    if type(m) == nn.Linear:\n",
    "        nn.init.xavier_uniform_(m.weight)\n",
    "\n",
    "def get_net():\n",
    "    net = nn.Sequential(\n",
    "        nn.Linear(4, 10), nn.ReLU(),\n",
    "        nn.Linear(10, 1)\n",
    "    )\n",
    "    net.apply(init_wieghts)\n",
    "    return net\n",
    "\n",
    "loss = nn.MSELoss()\n"
   ]
  },
  {
   "cell_type": "code",
   "execution_count": null,
   "metadata": {
    "vscode": {
     "languageId": "plaintext"
    }
   },
   "outputs": [],
   "source": [
    "# 训练模型\n",
    "\n",
    "def train(net, train_iter, loss, epochs, lr):\n",
    "    trainer = torch.optim.Adam(net.parameters(), lr)\n",
    "    for epoch in range(epochs):\n",
    "        for X, y in train_iter:\n",
    "            trainer.zero_grad()\n",
    "            l = loss(net(X), y)\n",
    "            l.backward()\n",
    "            trainer.step()\n",
    "        print(\n",
    "            f'epoch {epoch + 1}, ',\n",
    "            f'loss: {d2l.evaluate_loss(net, train_iter, loss)}'\n",
    "        )\n",
    "\n",
    "net = get_net()\n",
    "train(net, train_iter, loss, 5, 0.01)\n"
   ]
  },
  {
   "cell_type": "code",
   "execution_count": null,
   "metadata": {
    "vscode": {
     "languageId": "plaintext"
    }
   },
   "outputs": [],
   "source": [
    "onestep_preds = net(features)\n",
    "d2l.plot(\n",
    "    [time, time[tau:]],\n",
    "    [x.detach().numpy(), onestep_preds.detach().numpy()],\n",
    "    'time', 'x',\n",
    "    legend=['data', '1-step preds], xlim=[1, 1000], figsize=(6, 3)\n",
    ")"
   ]
  },
  {
   "cell_type": "code",
   "execution_count": null,
   "metadata": {
    "vscode": {
     "languageId": "plaintext"
    }
   },
   "outputs": [],
   "source": [
    "# 进行多步预测\n",
    "\n",
    "multistep_preds = torch.zeros(T)\n",
    "multistep_preds[: n_train + tau] = x[: n_train + tau]\n",
    "for i in range(n_train + tau, T):\n",
    "    multistep_preds[i] = net(multistep_preds[i - tau: i].reshape((1, -1)))\n",
    "\n",
    "d2l.plot(\n",
    "    [time, time[tau: ], time[n_train + tau]],\n",
    "    [\n",
    "        x.detach().numpy(), \n",
    "        onestep_preds.detach().numpy(), \n",
    "        multistep_preds.detach().numpy()    \n",
    "    ],\n",
    "    'time', 'x', legend=['data', '1-step preds', 'multistep preds'],\n",
    "    xlim=[1, 1000], figsize=(6, 3)\n",
    ")"
   ]
  },
  {
   "cell_type": "code",
   "execution_count": null,
   "metadata": {
    "vscode": {
     "languageId": "plaintext"
    }
   },
   "outputs": [],
   "source": [
    "# 在仔细看一下k步预测\n",
    "\n",
    "max_steps = 64\n",
    "\n",
    "features = torch.zeros((T - tau - max_steps + 1, tau + max_steps))\n",
    "\n",
    "for i in range(tau):\n",
    "    features[:, i] = x[i: i + T - tau - max_steps + 1]\n",
    "\n",
    "for i in range(tau, tau + max_steps):\n",
    "    features[:, i] = net(features[:, i - tau: i]).reshape(-1)\n",
    "\n",
    "steps = (1, 4, 16, 64)\n",
    "\n",
    "d2l.plot(\n",
    "    [time[tau + i - 1: T - max_steps + i] for i in steps],\n",
    "    [features[:, (tau + i - 1)].detach().numpy() for i in steps]\n",
    "    'time', 'x', legend=[f'{i}-step preds' for i in steps],\n",
    "    xlim=[5, 1000], figsize=(6, 3)\n",
    ")"
   ]
  },
  {
   "cell_type": "markdown",
   "metadata": {},
   "source": [
    "## 文本预处理\n",
    "\n",
    "### 代码实现\n"
   ]
  },
  {
   "cell_type": "code",
   "execution_count": null,
   "metadata": {
    "vscode": {
     "languageId": "plaintext"
    }
   },
   "outputs": [],
   "source": [
    "import collections\n",
    "import re # 正则表达式的module\n",
    "from d2l import torch as d2l\n",
    "\n",
    "\n",
    "# 将数据集读取到由多条文本组成的列表中\n",
    "\n",
    "def read_time_machine():\n",
    "    '''Load the time machine dataset into a list of text lines'''\n",
    "    with open(d2l.download('time_machine', 'r') as f:\n",
    "        lines = f.readlines()\n",
    "    # 实际使用中不会用这么暴力的预处理\n",
    "    return [re.sub('[^A-Za-z]+', ' ', line).strip().lower() for line in lines]\n",
    "\n",
    "lines = read_time_machine()\n",
    "\n",
    "print(f'text lines: {len(lines)}')\n",
    "print(lines[0])\n",
    "print)lines[10]\n"
   ]
  },
  {
   "cell_type": "code",
   "execution_count": null,
   "metadata": {
    "vscode": {
     "languageId": "plaintext"
    }
   },
   "outputs": [],
   "source": [
    "# 每个文本序列又被拆分成一个标记列表\n",
    "\n",
    "def toeknize(lines, token='word):\n",
    "    '''将文本行拆分成单词或字符进行标记'''\n",
    "    if token == 'word':\n",
    "        return [line.split() for line in lines]\n",
    "    elif token == 'char':\n",
    "        return [list(line) for line in lines]\n",
    "    else:\n",
    "        print('Error')\n",
    "\n",
    "tokens = toeknize(lines)\n",
    "for i in range(11):\n",
    "    print(tokens[i])\n",
    "\n",
    "\n",
    "# 构建一个字典，通常叫做词汇表vocabulary，用来将字符串类型的标记映射到从0开始的数字索引中\n",
    "\n",
    "class Vocab:\n",
    "    '''文本词汇表'''\n",
    "    def __init__(self, tokens=None, min_freq=0, reserved_tokens=None):\n",
    "        if tokens is None:\n",
    "            tokens = []\n",
    "        if reserved_tokens is None:\n",
    "            reserved_tokens = []\n",
    "        counter = count_freqs(tokens)\n",
    "        self.token_freqs = sorted(\n",
    "            counter.items(), key=lambda x: x[1], reverse=True\n",
    "        )\n",
    "        self.unk, uniq_tokens = 0, ['<unk>'] + reserved_tokens\n",
    "        # unk是一个常见的表示，意思是unknown\n",
    "\n",
    "        uniq_tokens += [\n",
    "            token for token, freq in self.token_freqs\n",
    "            if freq >= min_freq and token not in uniq_tokens\n",
    "        ]\n",
    "        self.idx_to_token, self.token_to_idx = [], dict()\n",
    "        for token in uniq_tokens:\n",
    "            self.idx_to_token.append(token)\n",
    "            self.token_to_idx[token] = len(self.idx_to_token)\n",
    "\n",
    "    def __len__(self):\n",
    "        return len(self.idx_to_token)\n",
    "\n",
    "    def __getitem__(self, tokens):\n",
    "        if not isinstance(tokens, (list, tuple)):\n",
    "            return self.token_to_idx.get(tokens, self.unk)\n",
    "        return [self.__getitem__(token) for token in tokens]\n",
    "    \n",
    "    def to_token(self, indices):\n",
    "        if not isinstance(indices, (list, tuple)):\n",
    "            return self.idx_to_token[indices]\n",
    "        return [self.idx_to_token[index] for index in indices]\n",
    "\n",
    "def count_corpus(tokens):\n",
    "    '''统计标记的频率'''\n",
    "    if len(tokens) == 0 or isinstance(tokens[0], list):\n",
    "        tokens = [token for line in tokens for token in line]\n",
    "    return collections.Counter(tokens)"
   ]
  },
  {
   "cell_type": "code",
   "execution_count": null,
   "metadata": {
    "vscode": {
     "languageId": "plaintext"
    }
   },
   "outputs": [],
   "source": [
    "# 构建词汇表\n",
    "vocab = Vocab(tokens)\n",
    "print(list(vocab.token_to_idx.items())[: 10])\n",
    "\n",
    "# 将每一行文本行转换成一个数字索引列表\n",
    "for i in [0, 10]:\n",
    "    print('words:', tokens[i])\n",
    "    print('indices:', vocab[tokens[i]])\n",
    "\n",
    "# 将所有功能打包到load_corpus_time_machine函数种\n",
    "def load_corpus_time_machine(max_tokens=-1):\n",
    "    '''返回时光机器数据集的标记索引列表和词汇表'''\n",
    "    lines = read_time_machine()\n",
    "    tokens = tokenize(lines, 'char')\n",
    "    vocab = Vocab(tokens)\n",
    "    # corpus语料库： a collection of written or spoken material stored on a computer and used to find out how language is used\n",
    "    corpus = [vocab[token] for line in tokens for token in line]\n",
    "    if max_tokens > 0:\n",
    "        corpus = corpus[: max_tokens]\n",
    "    return corpus, vocab\n",
    "\n",
    "corpus, vocab = load_corpus_time_machine()\n",
    "len(corpus), len(vocab)\n"
   ]
  },
  {
   "cell_type": "markdown",
   "metadata": {
    "vscode": {
     "languageId": "plaintext"
    }
   },
   "source": [
    "## 语言模型\n",
    "* 给定文本序列$x_1, ..., x_T$，语言模型的目标是估计联合概率$p(x_1, ..., x_T)$\n",
    "* 它的应用包括：\n",
    "    * 做预训练模型(BERT, GPT-3等)\n",
    "    * 做文本生成，给定前几个词，不断使用$x_t \\sim p(x_t|x_1, ..., x_{t -1})$来生成后续文本\n",
    "    * 判断多个序列中哪个更常见\n",
    "\n",
    "### 使用计数来建模\n",
    "* 假设序列长度为2,预测\n",
    "$$\n",
    "p(x, x') = p(x)p(x'|x) = \\frac{n(x)}{n} \\frac{x(x, x')}{n(x)}\n",
    "$$\n",
    "这里n是总词数，$n(x), n(x, x')$是单个单词和连续单词对的出现次数\n",
    "* 很容易拓展到长为3的情况\n",
    "$$\n",
    "p(x, x', x'') = p(x)p(x'|x)p(x''|x, x') = \\frac{n(x)}{n} \\frac{n(x, x')}{n(x)} \\frac{n(x, x', x'')}{n(x, x')}\n",
    "$$\n",
    "### N元语法\n",
    "* 当序列很长时，因为文本量不够大，很可能$n(x_1, ..., x_T) \\le 1$\n",
    "* 使用Markov假设来缓解这个问题：\n",
    "\n",
    "* 一元语法\n",
    "$$\n",
    "p(x_1, x_2, x_3, x_4) = p(x_1)p(x_2)p(x_3)p(x_4) = \\frac{n(x_1)}{n} \\frac{n(x_2)}{n} \\frac{n(x_3)}{n} \\frac{n(x_4)}{n}\n",
    "$$\n",
    "* 二元语法\n",
    "$$\n",
    "p(x_1, x_2, x_3, x_4) = p(x_1)p(x_2 | x_1)p(x_3|x_2)p(x_4|x_3) = \\frac{n(x_1)}{n} \\frac{n(x_1, x_2)}{n(x_1)} \\frac{n(x_2, x_3)}{n(x_2)} \\frac{n(x_3, x_4)}{n(x_3)}\n",
    "$$\n",
    "* 三元语法\n",
    "$$\n",
    "p(x_1, x_2, x_3, x_4) = p(x_1)p(x_2 | x_1)p(x_3 | x_1, x_2)p(x_4 | x_1, x_2, x_3)\n",
    "$$\n",
    "\n",
    "### 代码——语言模型和数据集"
   ]
  },
  {
   "cell_type": "code",
   "execution_count": null,
   "metadata": {
    "vscode": {
     "languageId": "plaintext"
    }
   },
   "outputs": [],
   "source": [
    "import random\n",
    "import torch \n",
    "from d2l import troch as d2l\n",
    "\n",
    "tokens = d2l.tokenize(d2l.read_time_machine())\n",
    "corpus = [token for line in lines for token in line]\n",
    "vocab = d2l.Vocab(corpus)\n",
    "vocab.token_freqs[: 10]\n",
    "\n",
    "\n",
    "# 最流行的词，被称为`停用词`，画出词频图\n",
    "freqs = [freq for token, freq in vocab.token_freqs]\n",
    "d2l.plot(\n",
    "    freqs, xlabel='token: x', ylabel='frequency: n(x)',\n",
    "    yscale='log'\n",
    ")\n",
    "\n",
    "# 其他的词元组合，比如二元语法，三元语法\n",
    "bigram_tokens = [\n",
    "    pair for pair in zip(corpus[: -1], corpus[1:])\n",
    "]\n",
    "bigram_vocab = d2l.Vocab(bigram_tokens)\n",
    "print(bigram_vocab.token_freqs[: 10])\n",
    "\n",
    "trigram_tokens = [\n",
    "    triple for triple in \n",
    "    zip(corpus[: -2], corpus[1: -1], corpus[2:])\n",
    "]\n",
    "trigram_vocab = d2l.Vocab(trigram_tokens)\n",
    "print(trigram_vocab.token_freqs[: 10])\n",
    "\n",
    "# 直观的对比三种模型中的标记频率\n",
    "bigram_freqs = [freq for token, freq in bigram_vocab.to]"
   ]
  },
  {
   "cell_type": "code",
   "execution_count": null,
   "metadata": {
    "vscode": {
     "languageId": "plaintext"
    }
   },
   "outputs": [],
   "source": []
  }
 ],
 "metadata": {
  "language_info": {
   "name": "python"
  }
 },
 "nbformat": 4,
 "nbformat_minor": 2
}
